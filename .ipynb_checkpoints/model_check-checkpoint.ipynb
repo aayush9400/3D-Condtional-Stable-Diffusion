{
 "cells": [
  {
   "cell_type": "code",
   "execution_count": 1,
   "id": "f5565baf",
   "metadata": {},
   "outputs": [
    {
     "name": "stderr",
     "output_type": "stream",
     "text": [
      "2023-10-16 10:37:06.780037: I tensorflow/core/platform/cpu_feature_guard.cc:193] This TensorFlow binary is optimized with oneAPI Deep Neural Network Library (oneDNN) to use the following CPU instructions in performance-critical operations:  AVX2 FMA\n",
      "To enable them in other operations, rebuild TensorFlow with the appropriate compiler flags.\n",
      "2023-10-16 10:37:10.652318: E tensorflow/stream_executor/cuda/cuda_blas.cc:2981] Unable to register cuBLAS factory: Attempting to register factory for plugin cuBLAS when one has already been registered\n",
      "2023-10-16 10:37:29.645345: W tensorflow/stream_executor/platform/default/dso_loader.cc:64] Could not load dynamic library 'libnvinfer.so.7'; dlerror: libnvinfer.so.7: cannot open shared object file: No such file or directory; LD_LIBRARY_PATH: /N/soft/rhel7/deeplearning/Python-3.10.5/libcutensor/lib/11:/N/soft/rhel7/deeplearning/Python-3.10.5/libcusparse_lt/lib64:/N/soft/rhel7/deeplearning/Python-3.10.5/cuda/lib64:/N/soft/rhel7/deeplearning/Python-3.10.5/cuda/lib:/N/soft/rhel7/deeplearning/Python-3.10.5/:/N/soft/rhel7/openmpi/intel/4.0.1/lib:/N/soft/rhel7/intel/19.5/compilers_and_libraries_2019.5.281/linux/compiler/lib/intel64:/N/soft/rhel7/intel/19.5/compilers_and_libraries_2019.5.281/linux/ipp/lib/intel64:/N/soft/rhel7/intel/19.5/compilers_and_libraries_2019.5.281/linux/compiler/lib/intel64_lin:/N/soft/rhel7/intel/19.5/compilers_and_libraries_2019.5.281/linux/mkl/lib/intel64_lin:/N/soft/rhel7/intel/19.5/compilers_and_libraries_2019.5.281/linux/tbb/lib/intel64/gcc4.7:/N/soft/rhel7/intel/19.5/debugger_2019/iga/lib:/N/soft/rhel7/intel/19.5/debugger_2019/libipt/intel64/lib:/N/soft/rhel7/intel/19.5/compilers_and_libraries_2019.5.281/linux/daal/lib/intel64_lin:/N/soft/rhel7/gcc/12.1.0/lib64:/N/soft/rhel7/gcc/12.1.0/lib:/N/soft/rhel7/gcc/infrastructure/lib\n",
      "2023-10-16 10:37:29.646434: W tensorflow/stream_executor/platform/default/dso_loader.cc:64] Could not load dynamic library 'libnvinfer_plugin.so.7'; dlerror: libnvinfer_plugin.so.7: cannot open shared object file: No such file or directory; LD_LIBRARY_PATH: /N/soft/rhel7/deeplearning/Python-3.10.5/libcutensor/lib/11:/N/soft/rhel7/deeplearning/Python-3.10.5/libcusparse_lt/lib64:/N/soft/rhel7/deeplearning/Python-3.10.5/cuda/lib64:/N/soft/rhel7/deeplearning/Python-3.10.5/cuda/lib:/N/soft/rhel7/deeplearning/Python-3.10.5/:/N/soft/rhel7/openmpi/intel/4.0.1/lib:/N/soft/rhel7/intel/19.5/compilers_and_libraries_2019.5.281/linux/compiler/lib/intel64:/N/soft/rhel7/intel/19.5/compilers_and_libraries_2019.5.281/linux/ipp/lib/intel64:/N/soft/rhel7/intel/19.5/compilers_and_libraries_2019.5.281/linux/compiler/lib/intel64_lin:/N/soft/rhel7/intel/19.5/compilers_and_libraries_2019.5.281/linux/mkl/lib/intel64_lin:/N/soft/rhel7/intel/19.5/compilers_and_libraries_2019.5.281/linux/tbb/lib/intel64/gcc4.7:/N/soft/rhel7/intel/19.5/debugger_2019/iga/lib:/N/soft/rhel7/intel/19.5/debugger_2019/libipt/intel64/lib:/N/soft/rhel7/intel/19.5/compilers_and_libraries_2019.5.281/linux/daal/lib/intel64_lin:/N/soft/rhel7/gcc/12.1.0/lib64:/N/soft/rhel7/gcc/12.1.0/lib:/N/soft/rhel7/gcc/infrastructure/lib\n",
      "2023-10-16 10:37:29.646453: W tensorflow/compiler/tf2tensorrt/utils/py_utils.cc:38] TF-TRT Warning: Cannot dlopen some TensorRT libraries. If you would like to use Nvidia GPU with TensorRT, please make sure the missing libraries mentioned above are installed properly.\n"
     ]
    }
   ],
   "source": [
    "from vqvae3d_monai import VQVAE\n",
    "\n",
    "import os\n",
    "import numpy as np\n",
    "import matplotlib.pyplot as plt\n",
    "\n",
    "from tensorflow import keras\n",
    "from tensorflow.keras import layers\n",
    "import tensorflow as tf"
   ]
  },
  {
   "cell_type": "code",
   "execution_count": 2,
   "id": "bbf69ddd",
   "metadata": {},
   "outputs": [],
   "source": [
    "def transform_img(image, affine, voxsize=None, init_shape=(256, 256, 256), scale=2):\n",
    "    if voxsize is not None:\n",
    "        image2, affine2 = reslice(image, affine, voxsize, (1, 1, 1))\n",
    "\n",
    "    affine2[:3, 3] += np.array([init_shape[0]//2,\n",
    "                                init_shape[1]//2,\n",
    "                                init_shape[2]//2])\n",
    "    inv_affine = np.linalg.inv(affine2)\n",
    "    transformed_img = affine_transform(\n",
    "        image2, inv_affine, output_shape=init_shape)\n",
    "    transformed_img, _ = reslice(transformed_img, np.eye(4), (1, 1, 1),\n",
    "                                 (scale, scale, scale))\n",
    "    return transformed_img, affine2\n",
    "\n",
    "\n",
    "def datasetHelperFunc(path):\n",
    "    transform_vol, mask = None, None\n",
    "    if isinstance(path, bytes):\n",
    "        path = str(path.decode('utf-8'))\n",
    "\n",
    "    if 'CC359' in path:\n",
    "        vol, affine, voxsize = load_nifti(path, return_voxsize=True)\n",
    "        mask, _ = load_nifti(path.replace('Original', 'STAPLE').replace('.nii.gz', '_staple.nii.gz'))\n",
    "        mask[mask < 1] = 0  # Values <1 in the mask is background\n",
    "        vol = vol*mask # zero out the background or non-region of interest areas.\n",
    "    elif 'NFBS' in path:\n",
    "        vol, affine, voxsize = load_nifti(path, return_voxsize=True)\n",
    "        mask, _ = load_nifti(path[:-7]+'mask.nii.gz')\n",
    "        mask[mask < 1] = 0  # Values <1 in the mask is background\n",
    "        vol = vol*mask # zero out the background or non-region of interest areas.\n",
    "    else:\n",
    "        vol, affine, voxsize = load_nifti(path, return_voxsize=True)\n",
    "        mask, _ = load_nifti(path.replace('/T1/', '/T1_masks_evac/'))\n",
    "        mask[mask < 1] = 0  # Values <1 in the mask is background\n",
    "        vol = vol*mask # zero out the background or non-region of interest areas.\n",
    "\n",
    "    if mask is not None:\n",
    "        mask, _ = transform_img(mask, affine, voxsize)\n",
    "        # Handling negative pixels, occurred as a result of preprocessing\n",
    "        mask[mask < 0] *= -1\n",
    "        mask = np.expand_dims(mask, -1)\n",
    "    transform_vol, _ = transform_img(vol, affine, voxsize)\n",
    "    # Handling negative pixels, occurred as a result of preprocessing\n",
    "    transform_vol[transform_vol < 0] *= -1\n",
    "    transform_vol = (transform_vol-np.min(transform_vol)) / \\\n",
    "        (np.max(transform_vol)-np.min(transform_vol))\n",
    "    transform_vol = np.expand_dims(transform_vol, -1)\n",
    "    return tf.convert_to_tensor(transform_vol, tf.float32), tf.convert_to_tensor(mask, tf.float32)\n",
    "\n",
    "\n",
    "def get_dataset_list(dataset_dir='/N/slate/aajais/skullstripping_datasets/'):\n",
    "    dataset_list = []\n",
    "\n",
    "    if args.dataset == 'CC':\n",
    "        dataset_list = glob.glob(os.path.join(dataset_dir, 'CC359', 'Original', '*.nii.gz'))\n",
    "    elif args.dataset == 'NFBS':\n",
    "        dataset_list = glob.glob(os.path.join(dataset_dir, 'NFBS_Dataset', '*', 'sub-*_T1w_brain.nii.gz'))\n",
    "    elif args.dataset == 'HCP':\n",
    "        dataset_list = glob.glob(os.path.join(dataset_dir, 'HCP_T1', 'T1', '*.nii.gz'))\n",
    "    elif args.dataset == 'both':\n",
    "        dataset_list = glob.glob(os.path.join(dataset_dir, 'CC359', 'Original', '*.nii.gz'))\n",
    "        dataset_list.extend(glob.glob(os.path.join(dataset_dir, 'NFBS', '*.nii.gz')))\n",
    "    elif args.dataset == 'all':\n",
    "        dataset_list = glob.glob(os.path.join(dataset_dir, 'CC359', 'Original', '*.nii.gz'))\n",
    "        dataset_list.extend(glob.glob(os.path.join(dataset_dir, 'NFBS', '*.nii.gz')))\n",
    "        dataset_list.extend(glob.glob(os.path.join(dataset_dir, 'HCP_T1', 'T1', '*.nii.gz')))\n",
    "\n",
    "    print('Total Images in dataset: ', len(dataset_list))\n",
    "    return dataset_list\n"
   ]
  },
  {
   "cell_type": "code",
   "execution_count": 3,
   "id": "a80c8dee",
   "metadata": {},
   "outputs": [
    {
     "name": "stdout",
     "output_type": "stream",
     "text": [
      "WARNING:tensorflow:There are non-GPU devices in `tf.distribute.Strategy`, not using nccl allreduce.\n",
      "INFO:tensorflow:Using MirroredStrategy with devices ('/job:localhost/replica:0/task:0/device:CPU:0',)\n",
      "Number of devices: 1\n",
      "[]\n",
      "[LogicalDevice(name='/device:CPU:0', device_type='CPU')]\n"
     ]
    },
    {
     "name": "stderr",
     "output_type": "stream",
     "text": [
      "2023-10-16 10:38:21.480884: W tensorflow/stream_executor/platform/default/dso_loader.cc:64] Could not load dynamic library 'libcuda.so.1'; dlerror: libcuda.so.1: cannot open shared object file: No such file or directory; LD_LIBRARY_PATH: /N/soft/rhel7/deeplearning/Python-3.10.5/libcutensor/lib/11:/N/soft/rhel7/deeplearning/Python-3.10.5/libcusparse_lt/lib64:/N/soft/rhel7/deeplearning/Python-3.10.5/cuda/lib64:/N/soft/rhel7/deeplearning/Python-3.10.5/cuda/lib:/N/soft/rhel7/deeplearning/Python-3.10.5/:/N/soft/rhel7/openmpi/intel/4.0.1/lib:/N/soft/rhel7/intel/19.5/compilers_and_libraries_2019.5.281/linux/compiler/lib/intel64:/N/soft/rhel7/intel/19.5/compilers_and_libraries_2019.5.281/linux/ipp/lib/intel64:/N/soft/rhel7/intel/19.5/compilers_and_libraries_2019.5.281/linux/compiler/lib/intel64_lin:/N/soft/rhel7/intel/19.5/compilers_and_libraries_2019.5.281/linux/mkl/lib/intel64_lin:/N/soft/rhel7/intel/19.5/compilers_and_libraries_2019.5.281/linux/tbb/lib/intel64/gcc4.7:/N/soft/rhel7/intel/19.5/debugger_2019/iga/lib:/N/soft/rhel7/intel/19.5/debugger_2019/libipt/intel64/lib:/N/soft/rhel7/intel/19.5/compilers_and_libraries_2019.5.281/linux/daal/lib/intel64_lin:/N/soft/rhel7/gcc/12.1.0/lib64:/N/soft/rhel7/gcc/12.1.0/lib:/N/soft/rhel7/gcc/infrastructure/lib\n",
      "2023-10-16 10:38:21.480997: W tensorflow/stream_executor/cuda/cuda_driver.cc:263] failed call to cuInit: UNKNOWN ERROR (303)\n",
      "2023-10-16 10:38:21.481049: I tensorflow/stream_executor/cuda/cuda_diagnostics.cc:156] kernel driver does not appear to be running on this host (h2.carbonate.uits.iu.edu): /proc/driver/nvidia/version does not exist\n",
      "2023-10-16 10:38:21.484908: I tensorflow/core/platform/cpu_feature_guard.cc:193] This TensorFlow binary is optimized with oneAPI Deep Neural Network Library (oneDNN) to use the following CPU instructions in performance-critical operations:  AVX2 FMA\n",
      "To enable them in other operations, rebuild TensorFlow with the appropriate compiler flags.\n"
     ]
    }
   ],
   "source": [
    "dataset_list = get_dataset_list()"
   ]
  },
  {
   "cell_type": "code",
   "execution_count": null,
   "id": "5e3cf2cc",
   "metadata": {},
   "outputs": [],
   "source": []
  }
 ],
 "metadata": {
  "kernelspec": {
   "display_name": "Python 3 (ipykernel)",
   "language": "python",
   "name": "python3"
  },
  "language_info": {
   "codemirror_mode": {
    "name": "ipython",
    "version": 3
   },
   "file_extension": ".py",
   "mimetype": "text/x-python",
   "name": "python",
   "nbconvert_exporter": "python",
   "pygments_lexer": "ipython3",
   "version": "3.10.5"
  }
 },
 "nbformat": 4,
 "nbformat_minor": 5
}
